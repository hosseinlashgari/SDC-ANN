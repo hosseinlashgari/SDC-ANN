{
  "cells": [
    {
      "cell_type": "code",
      "execution_count": 1,
      "metadata": {
        "id": "S-MGCx64DSpM"
      },
      "outputs": [],
      "source": [
        "import torch\n",
        "import struct\n",
        "from time import time\n",
        "from collections import OrderedDict\n",
        "import numpy as np\n",
        "import scipy.stats\n",
        "import pandas as pd\n",
        "import pickle\n",
        "import io\n",
        "import binary_fractions\n",
        "import matplotlib.pyplot as plt\n",
        "from torch import nn, optim, rand\n",
        "from torch.utils.data import DataLoader, ConcatDataset\n",
        "from torch.nn.utils import parameters_to_vector, vector_to_parameters\n",
        "from torchvision import datasets, transforms\n",
        "from torchsummary import summary"
      ]
    },
    {
      "cell_type": "markdown",
      "metadata": {},
      "source": [
        "Predefined values"
      ]
    },
    {
      "cell_type": "code",
      "execution_count": 2,
      "metadata": {},
      "outputs": [],
      "source": [
        "DTYPE = torch.float32\n",
        "\n",
        "DEVICE = (\n",
        "    \"cuda\"\n",
        "    if torch.cuda.is_available()\n",
        "    else \"mps\"\n",
        "    if torch.backends.mps.is_available()\n",
        "    else \"cpu\"\n",
        ")"
      ]
    },
    {
      "cell_type": "markdown",
      "metadata": {},
      "source": [
        "Preparing Dataset "
      ]
    },
    {
      "cell_type": "code",
      "execution_count": 3,
      "metadata": {
        "id": "_EIwNiO_D2g5"
      },
      "outputs": [],
      "source": [
        "transform = transforms.Compose([\n",
        "    transforms.ToTensor(),\n",
        "    transforms.ConvertImageDtype(dtype=DTYPE),\n",
        "    transforms.Normalize([0.5], [0.5])\n",
        "])\n",
        "\n",
        "trainset = datasets.MNIST(\n",
        "    root='data',\n",
        "    train=True,\n",
        "    download=True,\n",
        "    transform=transform,\n",
        ")\n",
        "\n",
        "testset = datasets.MNIST(\n",
        "    root='data',\n",
        "    train=False,\n",
        "    download=True,\n",
        "    transform=transform,\n",
        ")\n",
        "\n",
        "trainloader = DataLoader(\n",
        "    dataset=trainset,\n",
        "    batch_size=500,\n",
        "    shuffle=False,\n",
        ")\n",
        "\n",
        "testloader = DataLoader(\n",
        "    dataset=testset,\n",
        "    batch_size=500,\n",
        "    shuffle=False,\n",
        ")\n",
        "\n",
        "bothloader = DataLoader(\n",
        "    dataset=ConcatDataset([trainset, testset]),\n",
        "    batch_size=500,\n",
        "    shuffle=False,\n",
        ")"
      ]
    },
    {
      "cell_type": "markdown",
      "metadata": {},
      "source": [
        "LeNet5 Model"
      ]
    },
    {
      "cell_type": "code",
      "execution_count": 4,
      "metadata": {
        "id": "m3y1nAzOEs9g"
      },
      "outputs": [],
      "source": [
        "class LeNet5(nn.Module):\n",
        "  def __init__(self):\n",
        "    super().__init__()\n",
        "    self.conv_stack = nn.Sequential(\n",
        "        nn.Conv2d(1, 6, kernel_size=5, stride=1, padding=2, dtype=DTYPE),\n",
        "        nn.Tanh(),\n",
        "        nn.AvgPool2d(kernel_size=2, stride=2),\n",
        "        nn.Tanh(),\n",
        "        nn.Conv2d(6, 16, kernel_size=5, stride=1, dtype=DTYPE),\n",
        "        nn.Tanh(),\n",
        "        nn.AvgPool2d(kernel_size=2, stride=2),\n",
        "        nn.Tanh(),\n",
        "    )\n",
        "    self.flatten = nn.Flatten()\n",
        "    self.linear_stack = nn.Sequential(\n",
        "        nn.Linear(400, 120, dtype=DTYPE),\n",
        "        nn.Tanh(),\n",
        "        nn.Linear(120, 84, dtype=DTYPE),\n",
        "        nn.Tanh(),\n",
        "        nn.Linear(84, 10, dtype=DTYPE)\n",
        "    )\n",
        "\n",
        "  def forward(self, x):\n",
        "    x = self.conv_stack(x)\n",
        "    x = self.flatten(x)\n",
        "    x = self.linear_stack(x)\n",
        "    return x"
      ]
    },
    {
      "cell_type": "markdown",
      "metadata": {},
      "source": [
        "Model Training"
      ]
    },
    {
      "cell_type": "code",
      "execution_count": 5,
      "metadata": {
        "id": "LppRgKj9kRZU"
      },
      "outputs": [],
      "source": [
        "def train(lenet5, trainloader, loss, optimizer):\n",
        "  size = len(trainloader.dataset)\n",
        "  lenet5.train()\n",
        "  for batch, (X, y) in enumerate(trainloader):\n",
        "    X, y = X.to(DEVICE), y.to(DEVICE)\n",
        "\n",
        "    pred = lenet5(X)\n",
        "    loss_value = loss(pred, y)\n",
        "\n",
        "    loss_value.backward()\n",
        "    optimizer.step()\n",
        "    optimizer.zero_grad()\n",
        "\n",
        "    if batch % 100 == 0:\n",
        "      loss_value, current = loss_value.item(), (batch) * len(X)\n",
        "      print(f\"loss: {loss_value:>7f} [{current:>5d}/{size:>5d}]\")"
      ]
    },
    {
      "cell_type": "code",
      "execution_count": 6,
      "metadata": {
        "id": "kova_7dTlQpq"
      },
      "outputs": [],
      "source": [
        "def test(lenet5, testloader, loss):\n",
        "  size = len(testloader.dataset)\n",
        "  num_batches = len(testloader)\n",
        "  lenet5.eval()\n",
        "  test_loss, correct = 0, 0\n",
        "  with torch.no_grad():\n",
        "      for X, y in testloader:\n",
        "          X, y = X.to(DEVICE), y.to(DEVICE)\n",
        "          pred = lenet5(X)\n",
        "          test_loss += loss(pred, y).item()\n",
        "          correct += (pred.argmax(1) == y).type(torch.float).sum().item()\n",
        "  test_loss /= num_batches\n",
        "  correct /= size\n",
        "  print(f\"Test Error: \\n Accuracy: {(100*correct):>0.1f}%, Avg loss: {test_loss:>8f} \\n\")"
      ]
    },
    {
      "cell_type": "code",
      "execution_count": 5,
      "metadata": {
        "colab": {
          "base_uri": "https://localhost:8080/"
        },
        "id": "O0rZncz3SEup",
        "outputId": "36e097db-75a0-43d2-b559-353e44ec113a"
      },
      "outputs": [
        {
          "name": "stdout",
          "output_type": "stream",
          "text": [
            "<bound method Module.parameters of LeNet5(\n",
            "  (conv_stack): Sequential(\n",
            "    (0): Conv2d(1, 6, kernel_size=(5, 5), stride=(1, 1), padding=(2, 2))\n",
            "    (1): Tanh()\n",
            "    (2): AvgPool2d(kernel_size=2, stride=2, padding=0)\n",
            "    (3): Tanh()\n",
            "    (4): Conv2d(6, 16, kernel_size=(5, 5), stride=(1, 1))\n",
            "    (5): Tanh()\n",
            "    (6): AvgPool2d(kernel_size=2, stride=2, padding=0)\n",
            "    (7): Tanh()\n",
            "  )\n",
            "  (flatten): Flatten(start_dim=1, end_dim=-1)\n",
            "  (linear_stack): Sequential(\n",
            "    (0): Linear(in_features=400, out_features=120, bias=True)\n",
            "    (1): Tanh()\n",
            "    (2): Linear(in_features=120, out_features=84, bias=True)\n",
            "    (3): Tanh()\n",
            "    (4): Linear(in_features=84, out_features=10, bias=True)\n",
            "  )\n",
            ")>\n"
          ]
        }
      ],
      "source": [
        "lenet5 = LeNet5()\n",
        "print(lenet5.parameters)\n",
        "lenet5 = lenet5.to(DEVICE)\n",
        "loss = nn.CrossEntropyLoss()\n",
        "optimizer = optim.SGD(lenet5.parameters(), lr=0.001, momentum=0.9)"
      ]
    },
    {
      "cell_type": "code",
      "execution_count": null,
      "metadata": {
        "colab": {
          "base_uri": "https://localhost:8080/"
        },
        "id": "F1HZGYyHSmBN",
        "outputId": "39729366-c8eb-48f2-fc97-781e094735cf"
      },
      "outputs": [],
      "source": [
        "epochs = 10\n",
        "for t in range(epochs):\n",
        "    print(f\"Epoch {t+1}\\n-------------------------------\")\n",
        "    train(lenet5, trainloader, loss, optimizer)\n",
        "    test(lenet5, testloader, loss)\n",
        "print(\"Done!\")"
      ]
    },
    {
      "cell_type": "markdown",
      "metadata": {},
      "source": [
        "Save trained model"
      ]
    },
    {
      "cell_type": "code",
      "execution_count": 11,
      "metadata": {
        "id": "KpV7ibKepU44"
      },
      "outputs": [],
      "source": [
        "torch.save(lenet5, './lenet5/lenet5_16.pth')"
      ]
    },
    {
      "cell_type": "markdown",
      "metadata": {},
      "source": [
        "Load saved model"
      ]
    },
    {
      "cell_type": "code",
      "execution_count": 5,
      "metadata": {},
      "outputs": [],
      "source": [
        "lenet5 = torch.load('./lenet5/lenet5_32.pth', map_location=DEVICE)"
      ]
    },
    {
      "cell_type": "code",
      "execution_count": 17,
      "metadata": {},
      "outputs": [],
      "source": [
        "def main_test(lenet5, testloader):\n",
        "  lenet5.eval()\n",
        "  with torch.no_grad():\n",
        "    predictions = torch.tensor([], dtype=torch.int, device=DEVICE)\n",
        "    scores = torch.tensor([], device=DEVICE)\n",
        "    for X, y in testloader:\n",
        "      X, y = X.to(DEVICE), y.to(DEVICE)\n",
        "      pred = lenet5(X)\n",
        "      probs = nn.functional.softmax(pred, dim=1)\n",
        "      output = torch.sort(probs, dim=1, descending=True)\n",
        "      predictions = torch.cat((predictions, output[1]))\n",
        "      scores = torch.cat((scores, output[0]))\n",
        "    return (predictions, scores)\n",
        "\n",
        "main_data_16 = main_test(lenet5, testloader)\n"
      ]
    },
    {
      "cell_type": "code",
      "execution_count": 18,
      "metadata": {},
      "outputs": [],
      "source": [
        "main_data = pd.Series({\n",
        "    'float32': main_data_32,\n",
        "    'bfloat16': main_data_16,\n",
        "})\n",
        "main_data.to_pickle('./lenet5/lenet5_main_data.pkl')"
      ]
    },
    {
      "cell_type": "code",
      "execution_count": 8,
      "metadata": {},
      "outputs": [],
      "source": [
        "class CPU_Unpickler(pickle.Unpickler):\n",
        "    def find_class(self, module, name):\n",
        "        if module == 'torch.storage' and name == '_load_from_bytes':\n",
        "            return lambda b: torch.load(io.BytesIO(b), map_location=DEVICE)\n",
        "        else: return super().find_class(module, name)\n",
        "\n",
        "with open('./lenet5/lenet5_main_data.pkl', 'rb') as f:\n",
        "    main_data = CPU_Unpickler(f).load()\n"
      ]
    },
    {
      "cell_type": "markdown",
      "metadata": {},
      "source": [
        "Fault Injection and Testing"
      ]
    },
    {
      "cell_type": "code",
      "execution_count": 6,
      "metadata": {},
      "outputs": [],
      "source": [
        "class BinaryParam:\n",
        "    def __init__(self, number: torch.Tensor=torch.tensor(0, dtype=torch.float)):\n",
        "        self.number = number\n",
        "        self.number_type = number.dtype\n",
        "        if self.number_type == torch.bfloat16:\n",
        "            self.conversion_types = ['FP16']\n",
        "            self.default_conversion = 'FP16'\n",
        "        elif self.number_type == torch.float32:\n",
        "            self.conversion_types = ['FP32', 'FX32']\n",
        "            self.default_conversion = 'FP32'\n",
        "\n",
        "    def to_binary(self, conversion_type: str=None) -> str:\n",
        "        if conversion_type is None:\n",
        "            conversion_type = self.default_conversion\n",
        "        if conversion_type not in self.conversion_types:\n",
        "            raise TypeError('{} to {} conversion does not possible'.format(self.number_type, conversion_type))\n",
        "        if conversion_type == 'FP16':\n",
        "            return ''.join('{:0>8b}'.format(c) for c in struct.pack('!f', self.number.item())[:2])\n",
        "        elif conversion_type == 'FP32':\n",
        "            return ''.join('{:0>8b}'.format(c) for c in struct.pack('!f', self.number.item()))\n",
        "        elif conversion_type == 'FX32':\n",
        "            fx32_twos = binary_fractions.Binary(self.number.item()).to_twoscomplement()\n",
        "            fx32_temp = binary_fractions.Binary(str(fx32_twos)).string.split('.')\n",
        "            fx32_l = fx32_temp[0]\n",
        "            fx32_lfilled = ''.join('{}'.format(fx32_l[0]) for i in range(10 - len(fx32_l))) + fx32_l[-10:]\n",
        "            fx32_binary = fx32_lfilled + fx32_temp[1][:22]\n",
        "            return fx32_binary\n",
        "    \n",
        "    def to_decimal(self, binary_str: tuple) -> torch.Tensor:\n",
        "        if binary_str[1] not in self.conversion_types:\n",
        "            raise TypeError('{} to {} conversion does not possible'.format(binary_str, self.number_type))\n",
        "        if binary_str[1] == 'FP16':\n",
        "            buffer = int(binary_str[0] + ''.zfill(16), 2).to_bytes(4, 'big')\n",
        "            return self.number.fill_(struct.unpack('>f', buffer)[0])\n",
        "        elif binary_str[1] == 'FP32':\n",
        "            buffer = int(binary_str[0], 2).to_bytes(4, 'big')\n",
        "            return self.number.fill_(struct.unpack('>f', buffer)[0])\n",
        "        elif binary_str[1] == 'FX32':\n",
        "            fx32_twos = binary_str[0][:10] + '.' + binary_str[0][10:]\n",
        "            return self.number.fill_(binary_fractions.TwosComplement(fx32_twos).to_float())\n"
      ]
    },
    {
      "cell_type": "code",
      "execution_count": 7,
      "metadata": {},
      "outputs": [],
      "source": [
        "def fault_injector(lenet5: LeNet5, conversion_type: str, selected_param: int=None, selected_bit: int=None):\n",
        "    params_vector = parameters_to_vector(lenet5.parameters())\n",
        "    if selected_param is None:\n",
        "        selected_param = round(rand(1).item() * (len(params_vector) - 1))\n",
        "\n",
        "    main_param = params_vector[selected_param].item()\n",
        "    bi_param = BinaryParam(params_vector[selected_param])\n",
        "    bi_str = bi_param.to_binary(conversion_type)\n",
        "    if selected_bit is None:\n",
        "        selected_bit = round(rand(1).item() * (len(bi_str) - 1))\n",
        "    new_bi_str = list(bi_str)\n",
        "    new_bi_str[selected_bit] = '1' if bi_str[selected_bit] == '0' else '0'\n",
        "    new_bi_str = ''.join(new_bi_str)\n",
        "    injected_param = bi_param.to_decimal((new_bi_str, conversion_type)).item()\n",
        "    \n",
        "    injected_lenet5 = LeNet5()\n",
        "    injected_lenet5 = injected_lenet5.to(DEVICE)\n",
        "    injected_lenet5.load_state_dict(lenet5.state_dict())\n",
        "    vector_to_parameters(vec=params_vector, parameters=injected_lenet5.parameters())\n",
        "\n",
        "    return injected_lenet5, main_param, injected_param\n"
      ]
    },
    {
      "cell_type": "code",
      "execution_count": 36,
      "metadata": {},
      "outputs": [],
      "source": [
        "def test(lenet5, testloader):\n",
        "  lenet5.eval()\n",
        "  with torch.no_grad():\n",
        "    predictions = torch.tensor([], dtype=torch.int, device=DEVICE)\n",
        "    scores = torch.tensor([], device=DEVICE)\n",
        "    for X, y in testloader:\n",
        "      X, y = X.to(DEVICE), y.to(DEVICE)\n",
        "      pred = lenet5(X)\n",
        "      probs = nn.functional.softmax(pred, dim=1)\n",
        "      output = torch.max(probs, 1)\n",
        "      predictions = torch.cat((predictions, output[1]))\n",
        "      scores = torch.cat((scores, output[0]))\n",
        "    return (predictions, scores)\n",
        "          "
      ]
    },
    {
      "cell_type": "code",
      "execution_count": 9,
      "metadata": {},
      "outputs": [],
      "source": [
        "injected_data = pd.DataFrame(columns=['dtype', 'layer', 'param_number', 'bit_position', 'before_value', 'after_value', 'output'])\n"
      ]
    },
    {
      "cell_type": "code",
      "execution_count": null,
      "metadata": {},
      "outputs": [],
      "source": [
        "layers_iteration = OrderedDict([(1, [1, 156])])\n",
        "layers_iteration[2] = [round(241600 / 61706), 2416 + layers_iteration[1][1]]\n",
        "layers_iteration[3] = [round(4812000 / 61706), 48120 + layers_iteration[2][1]]\n",
        "layers_iteration[4] = [round(1016400 / 61706), 10164 + layers_iteration[3][1]]\n",
        "layers_iteration[5] = [round(85000 / 61706), 850 + layers_iteration[4][1]]\n",
        "\n",
        "conversion_type = 'FP16'\n",
        "if conversion_type in ['FP32', 'FX32']:\n",
        "    number_size = 32\n",
        "elif conversion_type == 'FP16':\n",
        "    number_size = 16\n",
        "    \n",
        "for layer in layers_iteration.keys():  \n",
        "    if layer == 1:\n",
        "        start_param = 0\n",
        "    else:\n",
        "        start_param = layers_iteration[layer - 1][1]\n",
        "    end_param = layers_iteration[layer][1]\n",
        "    \n",
        "    for param_number in np.random.choice(np.arange(start_param, end_param), layers_iteration[layer][0], replace=False):\n",
        "        start = time()\n",
        "        for bit in range(number_size):\n",
        "            injected_lenet, before_value, after_value = fault_injector(lenet5, conversion_type, param_number, bit)\n",
        "            output = test(injected_lenet, testloader)\n",
        "            info = {\n",
        "                'dtype': conversion_type,\n",
        "                'layer': layer,\n",
        "                'param_number': param_number,\n",
        "                'bit_position': bit,\n",
        "                'before_value': before_value,\n",
        "                'after_value': after_value,\n",
        "                'output': output,\n",
        "            }\n",
        "            injected_data.loc[len(injected_data)] = info\n",
        "            end = time()\n",
        "        print('{:>0.4f}'.format((end - start)))\n"
      ]
    },
    {
      "cell_type": "code",
      "execution_count": 31,
      "metadata": {},
      "outputs": [],
      "source": [
        "injected_data.to_pickle('./lenet5/lenet5_injected_data.pkl')"
      ]
    },
    {
      "cell_type": "code",
      "execution_count": 9,
      "metadata": {},
      "outputs": [],
      "source": [
        "class CPU_Unpickler(pickle.Unpickler):\n",
        "    def find_class(self, module, name):\n",
        "        if module == 'torch.storage' and name == '_load_from_bytes':\n",
        "            return lambda b: torch.load(io.BytesIO(b), map_location=DEVICE)\n",
        "        else: return super().find_class(module, name)\n",
        "\n",
        "with open('./lenet5/lenet5_injected_data.pkl', 'rb') as f:\n",
        "    injected_data = CPU_Unpickler(f).load()"
      ]
    },
    {
      "cell_type": "code",
      "execution_count": 13,
      "metadata": {},
      "outputs": [],
      "source": [
        "injected_data.to_csv('./lenet5/lenet5_injected_data.csv')"
      ]
    },
    {
      "cell_type": "code",
      "execution_count": null,
      "metadata": {},
      "outputs": [],
      "source": [
        "injected_data = pd.read_csv('./lenet5/lenet5_injected_data.csv')"
      ]
    },
    {
      "cell_type": "code",
      "execution_count": 33,
      "metadata": {},
      "outputs": [
        {
          "name": "stdout",
          "output_type": "stream",
          "text": [
            "704128\n"
          ]
        },
        {
          "data": {
            "text/html": [
              "<div>\n",
              "<style scoped>\n",
              "    .dataframe tbody tr th:only-of-type {\n",
              "        vertical-align: middle;\n",
              "    }\n",
              "\n",
              "    .dataframe tbody tr th {\n",
              "        vertical-align: top;\n",
              "    }\n",
              "\n",
              "    .dataframe thead th {\n",
              "        text-align: right;\n",
              "    }\n",
              "</style>\n",
              "<table border=\"1\" class=\"dataframe\">\n",
              "  <thead>\n",
              "    <tr style=\"text-align: right;\">\n",
              "      <th></th>\n",
              "      <th>dtype</th>\n",
              "      <th>layer</th>\n",
              "      <th>param_number</th>\n",
              "      <th>bit_position</th>\n",
              "      <th>before_value</th>\n",
              "      <th>after_value</th>\n",
              "      <th>output</th>\n",
              "      <th>sdc1</th>\n",
              "      <th>sdc5</th>\n",
              "      <th>sdc10p</th>\n",
              "      <th>sdc20p</th>\n",
              "    </tr>\n",
              "  </thead>\n",
              "  <tbody>\n",
              "    <tr>\n",
              "      <th>0</th>\n",
              "      <td>FP32</td>\n",
              "      <td>1</td>\n",
              "      <td>128</td>\n",
              "      <td>0</td>\n",
              "      <td>0.411265</td>\n",
              "      <td>-4.112647e-01</td>\n",
              "      <td>([tensor(7), tensor(2), tensor(1), tensor(0), ...</td>\n",
              "      <td>2.38</td>\n",
              "      <td>0.01</td>\n",
              "      <td>6.84</td>\n",
              "      <td>4.88</td>\n",
              "    </tr>\n",
              "    <tr>\n",
              "      <th>1</th>\n",
              "      <td>FP32</td>\n",
              "      <td>1</td>\n",
              "      <td>128</td>\n",
              "      <td>1</td>\n",
              "      <td>0.411265</td>\n",
              "      <td>1.399461e+38</td>\n",
              "      <td>([tensor(7), tensor(2), tensor(1), tensor(0), ...</td>\n",
              "      <td>1.33</td>\n",
              "      <td>0.00</td>\n",
              "      <td>3.90</td>\n",
              "      <td>2.71</td>\n",
              "    </tr>\n",
              "    <tr>\n",
              "      <th>2</th>\n",
              "      <td>FP32</td>\n",
              "      <td>1</td>\n",
              "      <td>128</td>\n",
              "      <td>2</td>\n",
              "      <td>0.411265</td>\n",
              "      <td>2.229471e-20</td>\n",
              "      <td>([tensor(7), tensor(2), tensor(1), tensor(0), ...</td>\n",
              "      <td>0.39</td>\n",
              "      <td>0.00</td>\n",
              "      <td>1.72</td>\n",
              "      <td>0.91</td>\n",
              "    </tr>\n",
              "    <tr>\n",
              "      <th>3</th>\n",
              "      <td>FP32</td>\n",
              "      <td>1</td>\n",
              "      <td>128</td>\n",
              "      <td>3</td>\n",
              "      <td>0.411265</td>\n",
              "      <td>9.575503e-11</td>\n",
              "      <td>([tensor(7), tensor(2), tensor(1), tensor(0), ...</td>\n",
              "      <td>0.39</td>\n",
              "      <td>0.00</td>\n",
              "      <td>1.72</td>\n",
              "      <td>0.91</td>\n",
              "    </tr>\n",
              "    <tr>\n",
              "      <th>4</th>\n",
              "      <td>FP32</td>\n",
              "      <td>1</td>\n",
              "      <td>128</td>\n",
              "      <td>4</td>\n",
              "      <td>0.411265</td>\n",
              "      <td>6.275402e-06</td>\n",
              "      <td>([tensor(7), tensor(2), tensor(1), tensor(0), ...</td>\n",
              "      <td>0.39</td>\n",
              "      <td>0.00</td>\n",
              "      <td>1.72</td>\n",
              "      <td>0.91</td>\n",
              "    </tr>\n",
              "    <tr>\n",
              "      <th>...</th>\n",
              "      <td>...</td>\n",
              "      <td>...</td>\n",
              "      <td>...</td>\n",
              "      <td>...</td>\n",
              "      <td>...</td>\n",
              "      <td>...</td>\n",
              "      <td>...</td>\n",
              "      <td>...</td>\n",
              "      <td>...</td>\n",
              "      <td>...</td>\n",
              "      <td>...</td>\n",
              "    </tr>\n",
              "    <tr>\n",
              "      <th>7995</th>\n",
              "      <td>FP16</td>\n",
              "      <td>5</td>\n",
              "      <td>61559</td>\n",
              "      <td>11</td>\n",
              "      <td>0.156250</td>\n",
              "      <td>1.718750e-01</td>\n",
              "      <td>([tensor(7), tensor(2), tensor(1), tensor(0), ...</td>\n",
              "      <td>0.05</td>\n",
              "      <td>0.00</td>\n",
              "      <td>0.00</td>\n",
              "      <td>0.00</td>\n",
              "    </tr>\n",
              "    <tr>\n",
              "      <th>7996</th>\n",
              "      <td>FP16</td>\n",
              "      <td>5</td>\n",
              "      <td>61559</td>\n",
              "      <td>12</td>\n",
              "      <td>0.156250</td>\n",
              "      <td>1.640625e-01</td>\n",
              "      <td>([tensor(7), tensor(2), tensor(1), tensor(0), ...</td>\n",
              "      <td>0.05</td>\n",
              "      <td>0.00</td>\n",
              "      <td>0.00</td>\n",
              "      <td>0.00</td>\n",
              "    </tr>\n",
              "    <tr>\n",
              "      <th>7997</th>\n",
              "      <td>FP16</td>\n",
              "      <td>5</td>\n",
              "      <td>61559</td>\n",
              "      <td>13</td>\n",
              "      <td>0.156250</td>\n",
              "      <td>1.601562e-01</td>\n",
              "      <td>([tensor(7), tensor(2), tensor(1), tensor(0), ...</td>\n",
              "      <td>0.06</td>\n",
              "      <td>0.00</td>\n",
              "      <td>0.00</td>\n",
              "      <td>0.00</td>\n",
              "    </tr>\n",
              "    <tr>\n",
              "      <th>7998</th>\n",
              "      <td>FP16</td>\n",
              "      <td>5</td>\n",
              "      <td>61559</td>\n",
              "      <td>14</td>\n",
              "      <td>0.156250</td>\n",
              "      <td>1.582031e-01</td>\n",
              "      <td>([tensor(7), tensor(2), tensor(1), tensor(0), ...</td>\n",
              "      <td>0.06</td>\n",
              "      <td>0.00</td>\n",
              "      <td>0.00</td>\n",
              "      <td>0.00</td>\n",
              "    </tr>\n",
              "    <tr>\n",
              "      <th>7999</th>\n",
              "      <td>FP16</td>\n",
              "      <td>5</td>\n",
              "      <td>61559</td>\n",
              "      <td>15</td>\n",
              "      <td>0.156250</td>\n",
              "      <td>1.572266e-01</td>\n",
              "      <td>([tensor(7), tensor(2), tensor(1), tensor(0), ...</td>\n",
              "      <td>0.06</td>\n",
              "      <td>0.00</td>\n",
              "      <td>0.00</td>\n",
              "      <td>0.00</td>\n",
              "    </tr>\n",
              "  </tbody>\n",
              "</table>\n",
              "<p>8000 rows × 11 columns</p>\n",
              "</div>"
            ],
            "text/plain": [
              "     dtype  layer  param_number  bit_position  before_value   after_value  \\\n",
              "0     FP32      1           128             0      0.411265 -4.112647e-01   \n",
              "1     FP32      1           128             1      0.411265  1.399461e+38   \n",
              "2     FP32      1           128             2      0.411265  2.229471e-20   \n",
              "3     FP32      1           128             3      0.411265  9.575503e-11   \n",
              "4     FP32      1           128             4      0.411265  6.275402e-06   \n",
              "...    ...    ...           ...           ...           ...           ...   \n",
              "7995  FP16      5         61559            11      0.156250  1.718750e-01   \n",
              "7996  FP16      5         61559            12      0.156250  1.640625e-01   \n",
              "7997  FP16      5         61559            13      0.156250  1.601562e-01   \n",
              "7998  FP16      5         61559            14      0.156250  1.582031e-01   \n",
              "7999  FP16      5         61559            15      0.156250  1.572266e-01   \n",
              "\n",
              "                                                 output  sdc1  sdc5  sdc10p  \\\n",
              "0     ([tensor(7), tensor(2), tensor(1), tensor(0), ...  2.38  0.01    6.84   \n",
              "1     ([tensor(7), tensor(2), tensor(1), tensor(0), ...  1.33  0.00    3.90   \n",
              "2     ([tensor(7), tensor(2), tensor(1), tensor(0), ...  0.39  0.00    1.72   \n",
              "3     ([tensor(7), tensor(2), tensor(1), tensor(0), ...  0.39  0.00    1.72   \n",
              "4     ([tensor(7), tensor(2), tensor(1), tensor(0), ...  0.39  0.00    1.72   \n",
              "...                                                 ...   ...   ...     ...   \n",
              "7995  ([tensor(7), tensor(2), tensor(1), tensor(0), ...  0.05  0.00    0.00   \n",
              "7996  ([tensor(7), tensor(2), tensor(1), tensor(0), ...  0.05  0.00    0.00   \n",
              "7997  ([tensor(7), tensor(2), tensor(1), tensor(0), ...  0.06  0.00    0.00   \n",
              "7998  ([tensor(7), tensor(2), tensor(1), tensor(0), ...  0.06  0.00    0.00   \n",
              "7999  ([tensor(7), tensor(2), tensor(1), tensor(0), ...  0.06  0.00    0.00   \n",
              "\n",
              "      sdc20p  \n",
              "0       4.88  \n",
              "1       2.71  \n",
              "2       0.91  \n",
              "3       0.91  \n",
              "4       0.91  \n",
              "...      ...  \n",
              "7995    0.00  \n",
              "7996    0.00  \n",
              "7997    0.00  \n",
              "7998    0.00  \n",
              "7999    0.00  \n",
              "\n",
              "[8000 rows x 11 columns]"
            ]
          },
          "execution_count": 33,
          "metadata": {},
          "output_type": "execute_result"
        }
      ],
      "source": [
        "print(injected_data.memory_usage(index=True).sum())\n",
        "injected_data"
      ]
    },
    {
      "cell_type": "markdown",
      "metadata": {},
      "source": [
        "SDCs calculation"
      ]
    },
    {
      "cell_type": "code",
      "execution_count": 20,
      "metadata": {},
      "outputs": [],
      "source": [
        "def sdc1(injected_outputs: pd.Series, main_outputs: torch.Tensor):\n",
        "    sdcs = {}\n",
        "    testset_length = main_outputs.__len__()\n",
        "    for injection, value in injected_outputs.items():\n",
        "        sdcs[injection] = (value[0] != main_outputs[:, 0]).type(torch.float).sum().item() * 100 / testset_length\n",
        "    return pd.Series(sdcs)\n",
        "\n",
        "def sdc5(injected_outputs: pd.Series, main_outputs: torch.Tensor):\n",
        "    sdcs = {}\n",
        "    testset_length = main_outputs.__len__()\n",
        "\n",
        "    for injection, value in injected_outputs.items():\n",
        "        testset_check = 0\n",
        "        for test in range(testset_length):\n",
        "            if value[0][test] not in main_outputs[test, :5]:\n",
        "                testset_check += 1\n",
        "        testset_check = testset_check / testset_length\n",
        "        sdcs[injection] = testset_check * 100\n",
        "    \n",
        "    return pd.Series(sdcs)\n",
        "\n",
        "def sdc10p(injected_outputs: pd.Series, main_outputs: torch.Tensor, main_scores: torch.Tensor):\n",
        "    sdcs = {}\n",
        "    testset_length = main_outputs.__len__()\n",
        "\n",
        "    for injection, value in injected_outputs.items():\n",
        "        testset_check = 0\n",
        "        for test in range(testset_length):\n",
        "            index = (main_outputs[test] == value[0][test]).nonzero(as_tuple=True)[0]\n",
        "            ratio = value[1][test] / main_scores[test, index]\n",
        "            if ratio > 1.1 or ratio < 0.9:\n",
        "                testset_check += 1\n",
        "        testset_check = testset_check / testset_length\n",
        "        sdcs[injection] = testset_check * 100\n",
        "\n",
        "    return pd.Series(sdcs)\n",
        "\n",
        "def sdc20p(injected_outputs: pd.Series, main_outputs: torch.Tensor, main_scores: torch.Tensor):\n",
        "    sdcs = {}\n",
        "    testset_length = main_outputs.__len__()\n",
        "\n",
        "    for injection, value in injected_outputs.items():\n",
        "        testset_check = 0\n",
        "        for test in range(testset_length):\n",
        "            index = (main_outputs[test] == value[0][test]).nonzero(as_tuple=True)[0]\n",
        "            ratio = value[1][test] / main_scores[test, index]\n",
        "            if ratio > 1.2 or ratio < 0.8:\n",
        "                testset_check += 1\n",
        "        testset_check = testset_check / testset_length\n",
        "        sdcs[injection] = testset_check * 100\n",
        "    \n",
        "    return pd.Series(sdcs)\n",
        "\n",
        "def sdc10p_20p(injected_outputs: pd.Series, main_outputs: torch.Tensor, main_scores: torch.Tensor):\n",
        "    sdcs1 = {}\n",
        "    sdcs2 = {}\n",
        "    testset_length = main_outputs.__len__()\n",
        "\n",
        "    for injection, value in injected_outputs.items():\n",
        "        testset_check1 = 0\n",
        "        testset_check2 = 0\n",
        "        for test in range(testset_length):\n",
        "            index = (main_outputs[test] == value[0][test]).nonzero(as_tuple=True)[0]\n",
        "            ratio = value[1][test] / main_scores[test, index]\n",
        "            if ratio > 1.1 or ratio < 0.9:\n",
        "                testset_check1 += 1\n",
        "            if ratio > 1.2 or ratio < 0.8:\n",
        "                testset_check2 += 1\n",
        "        testset_check1 = testset_check1 / testset_length\n",
        "        testset_check2 = testset_check2 / testset_length\n",
        "        sdcs1[injection] = testset_check1 * 100\n",
        "        sdcs2[injection] = testset_check2 * 100\n",
        "    \n",
        "    return pd.Series(sdcs1), pd.Series(sdcs2)"
      ]
    },
    {
      "cell_type": "code",
      "execution_count": 21,
      "metadata": {},
      "outputs": [],
      "source": [
        "lenet5_sdc1 = sdc1(injected_data['output'][:3200], main_data['float32'][0])\n"
      ]
    },
    {
      "cell_type": "markdown",
      "metadata": {},
      "source": [
        "SDC probability confidence interval"
      ]
    },
    {
      "cell_type": "code",
      "execution_count": 11,
      "metadata": {},
      "outputs": [],
      "source": [
        "def mean_confidence_interval(data, confidence=0.95):\n",
        "    a = 1.0 * np.array(data)\n",
        "    length = len(a)\n",
        "    mean, se = np.mean(a), scipy.stats.sem(a)\n",
        "    h = se * scipy.stats.t.ppf((1 + confidence) / 2., length-1)\n",
        "    return mean, h\n"
      ]
    },
    {
      "cell_type": "markdown",
      "metadata": {},
      "source": [
        "Total SDC probability plot"
      ]
    },
    {
      "cell_type": "code",
      "execution_count": 28,
      "metadata": {},
      "outputs": [
        {
          "data": {
            "image/png": "[encoded data removed]",
            "text/plain": [
              "<Figure size 1000x500 with 1 Axes>"
            ]
          },
          "metadata": {},
          "output_type": "display_data"
        }
      ],
      "source": [
        "sdcs = {\n",
        "    'FP16': [\n",
        "        mean_confidence_interval(injected_data.loc[injected_data['dtype'] == 'FP16']['sdc1']),\n",
        "        mean_confidence_interval(injected_data.loc[injected_data['dtype'] == 'FP16']['sdc5']),\n",
        "        mean_confidence_interval(injected_data.loc[injected_data['dtype'] == 'FP16']['sdc10p']),\n",
        "        mean_confidence_interval(injected_data.loc[injected_data['dtype'] == 'FP16']['sdc20p']),\n",
        "    ],\n",
        "    'FP32': [\n",
        "        mean_confidence_interval(injected_data.loc[injected_data['dtype'] == 'FP32']['sdc1']),\n",
        "        mean_confidence_interval(injected_data.loc[injected_data['dtype'] == 'FP32']['sdc5']),\n",
        "        mean_confidence_interval(injected_data.loc[injected_data['dtype'] == 'FP32']['sdc10p']),\n",
        "        mean_confidence_interval(injected_data.loc[injected_data['dtype'] == 'FP32']['sdc20p']),\n",
        "    ],\n",
        "    'FX32': [\n",
        "        mean_confidence_interval(injected_data.loc[injected_data['dtype'] == 'FX32']['sdc1']),\n",
        "        mean_confidence_interval(injected_data.loc[injected_data['dtype'] == 'FX32']['sdc5']),\n",
        "        mean_confidence_interval(injected_data.loc[injected_data['dtype'] == 'FX32']['sdc10p']),\n",
        "        mean_confidence_interval(injected_data.loc[injected_data['dtype'] == 'FX32']['sdc20p']),\n",
        "    ]\n",
        "}\n",
        "\n",
        "plt.figure(figsize=(10, 5))\n",
        "plt.subplot()\n",
        "width = 0.25\n",
        "\n",
        "for i, (key, val) in enumerate(sdcs.items()):\n",
        "    offset = width * i\n",
        "    rects = plt.bar(np.arange(4) + offset, [m[0] for m in val], width, label=key, yerr=[np.round(m[1], 2) for m in val])\n",
        "    plt.bar_label(rects, labels=['{}±{}'.format(np.round(m[0], 2), np.round(m[1], 2)) for m in val], fontsize=7, padding=3)\n",
        "\n",
        "plt.ylabel('Probability (%)')\n",
        "plt.title('SDC Probability')\n",
        "plt.xticks(np.arange(4) + width, ['SDC-1', 'SDC-5', 'SDC-10%', 'SDC-20%'])\n",
        "plt.legend(loc='upper left', ncols=3)\n",
        "plt.ylim(0, 0.55)\n",
        "\n",
        "plt.show()"
      ]
    },
    {
      "cell_type": "markdown",
      "metadata": {},
      "source": [
        "Bit-wise SDC probability plot"
      ]
    },
    {
      "cell_type": "code",
      "execution_count": 29,
      "metadata": {},
      "outputs": [
        {
          "data": {
            "image/png": "[encoded data removed]",
            "text/plain": [
              "<Figure size 1600x400 with 3 Axes>"
            ]
          },
          "metadata": {},
          "output_type": "display_data"
        }
      ],
      "source": [
        "types_32 = np.arange(0, 32)\n",
        "types_16 = np.arange(0, 16)\n",
        "fp32_means = []\n",
        "fx32_means = []\n",
        "fp16_means = []\n",
        "for i in types_32:\n",
        "    mean_fp32_1, h = mean_confidence_interval(injected_data.loc[(injected_data['dtype'] == 'FP32') & (injected_data['bit_position'] == i)]['sdc1'])\n",
        "    fp32_means.append(mean_fp32_1)\n",
        "\n",
        "    mean_fx32_1, h = mean_confidence_interval(injected_data.loc[(injected_data['dtype'] == 'FX32') & (injected_data['bit_position'] == i)]['sdc1'])\n",
        "    fx32_means.append(mean_fx32_1)\n",
        "\n",
        "for i in types_16:\n",
        "    mean_fp16_1, h = mean_confidence_interval(injected_data.loc[(injected_data['dtype'] == 'FP16') & (injected_data['bit_position'] == i)]['sdc1'])\n",
        "    fp16_means.append(mean_fp16_1)\n",
        "\n",
        "plt.figure(figsize=(16, 4))\n",
        "plt.subplot(131)\n",
        "plt.title('FP16')\n",
        "plt.bar((np.array(list(reversed(types_16)))).astype(str), fp16_means)\n",
        "plt.xlabel('Bit (MSB ---> LSB)')\n",
        "plt.ylabel('Probability (%)')\n",
        "\n",
        "plt.subplot(132)\n",
        "plt.title('FP32')\n",
        "plt.bar(types_32, fp32_means)\n",
        "plt.xticks(np.arange(0, 32, 2), np.arange(31, -1, -2))\n",
        "plt.xlabel('Bit (MSB ---> LSB)')\n",
        "plt.ylabel('Probability (%)')\n",
        "\n",
        "plt.subplot(133)\n",
        "plt.title('FX32')\n",
        "plt.bar(types_32, fx32_means)\n",
        "plt.xticks(np.arange(0, 32, 2), np.arange(31, -1, -2))\n",
        "plt.xlabel('Bit (MSB ---> LSB)')\n",
        "plt.ylabel('Probability (%)')\n",
        "\n",
        "plt.suptitle('SDC-1 Probability')\n",
        "plt.show()\n"
      ]
    },
    {
      "cell_type": "markdown",
      "metadata": {},
      "source": [
        "Layer-wise SDC probability plot"
      ]
    },
    {
      "cell_type": "code",
      "execution_count": 36,
      "metadata": {},
      "outputs": [
        {
          "data": {
            "image/png": "[encoded data removed]",
            "text/plain": [
              "<Figure size 1600x400 with 3 Axes>"
            ]
          },
          "metadata": {},
          "output_type": "display_data"
        }
      ],
      "source": [
        "types = injected_data['layer'].drop_duplicates().to_list()\n",
        "fp32_means = []\n",
        "fx32_means = []\n",
        "fp16_means = []\n",
        "for i in types:\n",
        "    mean_fp32_1, h = mean_confidence_interval(injected_data[(injected_data['dtype'] == 'FP32') & (injected_data['layer'] == i)]['sdc1'])\n",
        "    fp32_means.append(mean_fp32_1)\n",
        "\n",
        "    mean_fx32_1, h = mean_confidence_interval(injected_data[(injected_data['dtype'] == 'FX32') & (injected_data['layer'] == i)]['sdc1'])\n",
        "    fx32_means.append(mean_fx32_1)\n",
        "\n",
        "    mean_fp16_1, h = mean_confidence_interval(injected_data[(injected_data['dtype'] == 'FP16') & (injected_data['layer'] == i)]['sdc1'])\n",
        "    fp16_means.append(mean_fp16_1)\n",
        "\n",
        "plt.figure(figsize=(16, 4))\n",
        "plt.subplot(131)\n",
        "plt.title('FP16')\n",
        "plt.bar(types, fp16_means)\n",
        "plt.subplot(132)\n",
        "plt.title('FP32')\n",
        "plt.bar(types, fp32_means)\n",
        "plt.subplot(133)\n",
        "plt.title('FX32')\n",
        "plt.bar(types, fx32_means)\n",
        "\n",
        "plt.suptitle('SDC-1 Probability(%)')\n",
        "plt.show()\n"
      ]
    },
    {
      "cell_type": "markdown",
      "metadata": {},
      "source": [
        "Calculate range of layers"
      ]
    },
    {
      "cell_type": "code",
      "execution_count": 9,
      "metadata": {},
      "outputs": [],
      "source": [
        "lenet5 = torch.load('./lenet5/lenet5_32.pth', map_location=DEVICE)"
      ]
    },
    {
      "cell_type": "code",
      "execution_count": 8,
      "metadata": {},
      "outputs": [],
      "source": [
        "def get_range_hooks(lenet5, outputs: OrderedDict, input_size: list):\n",
        "    def get_range(layer):\n",
        "        def hook(module, input, output):\n",
        "            layer_output = output.detach().clone()\n",
        "            layer_min = torch.min(layer_output, dim=0)[0]\n",
        "            layer_max = torch.max(layer_output, dim=0)[0]\n",
        "            if layer not in outputs.keys():\n",
        "                outputs[layer] = torch.stack([layer_min, layer_max], dim=-1)\n",
        "            else:\n",
        "                total_min = torch.minimum(outputs[layer][..., 0], layer_min)\n",
        "                total_max = torch.maximum(outputs[layer][..., 1], layer_max)\n",
        "                outputs[layer] = torch.stack([total_min, total_max], dim=-1)\n",
        "        return hook\n",
        "\n",
        "    def get_layers_by_index(layer_name):\n",
        "        def hook(module, input, output):\n",
        "            indexed_layers[(len(indexed_layers), layer_name)] = module\n",
        "        return hook\n",
        "    \n",
        "    def get_layers(name: str, model: torch.nn.Module):\n",
        "        children = list(model.named_children())\n",
        "        return [(name, model)] if len(children) == 0 else [ci for c in children for ci in get_layers(name + '.' + c[0], c[1])]\n",
        "    \n",
        "    indexed_layers = OrderedDict()\n",
        "    layers = get_layers('lenet5', lenet5)\n",
        "    hooks = []\n",
        "    for (layer, module) in layers:\n",
        "        hooks.append(module.register_forward_hook(get_layers_by_index(layer)))\n",
        "\n",
        "    X = [torch.rand(2, *input_size).type(DTYPE).to(DEVICE)]\n",
        "    \n",
        "    lenet5.eval()\n",
        "    with torch.no_grad():\n",
        "        lenet5(*X)\n",
        "    \n",
        "    for hook in hooks:\n",
        "        hook.remove()\n",
        "\n",
        "    hooks = []\n",
        "    for key, module in indexed_layers.items():\n",
        "        hooks.append(module.register_forward_hook(get_range(key)))\n",
        "    \n",
        "    return hooks"
      ]
    },
    {
      "cell_type": "code",
      "execution_count": 9,
      "metadata": {},
      "outputs": [],
      "source": [
        "def find_layers_range(lenet5, testloader, outputs = None):\n",
        "    if outputs is None:\n",
        "        outputs = OrderedDict()\n",
        "    total = len(testloader.dataset)\n",
        "    hooks = get_range_hooks(lenet5, outputs, [1, 28, 28])\n",
        "    lenet5.eval()\n",
        "    with torch.no_grad():\n",
        "        for i, (X, _) in enumerate(testloader):\n",
        "            X = X.to(DEVICE)\n",
        "            lenet5(X)\n",
        "            print(\"{} / {}\".format(len(X) * (i + 1), total))\n",
        "        for hook in hooks:\n",
        "            hook.remove()\n",
        "    return outputs"
      ]
    },
    {
      "cell_type": "code",
      "execution_count": null,
      "metadata": {},
      "outputs": [],
      "source": [
        "params_range = find_layers_range(lenet5, bothloader)"
      ]
    },
    {
      "cell_type": "code",
      "execution_count": 72,
      "metadata": {},
      "outputs": [],
      "source": [
        "with open('./lenet5/lenet5_params_range.pkl', 'wb') as handle:\n",
        "    pickle.dump(params_range, handle, protocol=pickle.HIGHEST_PROTOCOL)"
      ]
    },
    {
      "cell_type": "code",
      "execution_count": 9,
      "metadata": {},
      "outputs": [],
      "source": [
        "class CPU_Unpickler(pickle.Unpickler):\n",
        "    def find_class(self, module, name):\n",
        "        if module == 'torch.storage' and name == '_load_from_bytes':\n",
        "            return lambda b: torch.load(io.BytesIO(b), map_location=DEVICE)\n",
        "        else: return super().find_class(module, name)\n",
        "\n",
        "with open('./lenet5/lenet5_params_range.pkl', 'rb') as f:\n",
        "    params_range = CPU_Unpickler(f).load()"
      ]
    },
    {
      "cell_type": "markdown",
      "metadata": {},
      "source": [
        "SDC mitigation (Ranger)"
      ]
    },
    {
      "cell_type": "code",
      "execution_count": 10,
      "metadata": {},
      "outputs": [],
      "source": [
        "lenet5 = torch.load('./lenet5/lenet5_32.pth', map_location=DEVICE)"
      ]
    },
    {
      "cell_type": "code",
      "execution_count": 11,
      "metadata": {},
      "outputs": [],
      "source": [
        "class CPU_Unpickler(pickle.Unpickler):\n",
        "    def find_class(self, module, name):\n",
        "        if module == 'torch.storage' and name == '_load_from_bytes':\n",
        "            return lambda b: torch.load(io.BytesIO(b), map_location=DEVICE)\n",
        "        else: return super().find_class(module, name)\n",
        "\n",
        "with open('./lenet5/lenet5_injected_data.pkl', 'rb') as f:\n",
        "    injected_data = CPU_Unpickler(f).load()"
      ]
    },
    {
      "cell_type": "code",
      "execution_count": 12,
      "metadata": {},
      "outputs": [],
      "source": [
        "def ranger(lenet5, params_range: OrderedDict, result, input_size: list):\n",
        "    def set_range(layer):\n",
        "        def hook(model, input, output):\n",
        "            layer_output = output.detach().to(DEVICE)\n",
        "            bounded_layer = layer_output.clone().to(DEVICE)\n",
        "            params_range_min = params_range[layer][..., 0].to(DEVICE)\n",
        "            params_range_max = params_range[layer][..., 1].to(DEVICE)\n",
        "            \n",
        "            bounded_layer = torch.maximum(bounded_layer, params_range_min)\n",
        "            bounded_layer = torch.minimum(bounded_layer, params_range_max)\n",
        "\n",
        "            # enable when you want sdc detection\n",
        "            #check_sdc = torch.eq(torch.flatten(bounded_layer, 1), torch.flatten(layer_output, 1))\n",
        "            #result[0] = torch.logical_and(result[0], torch.all(check_sdc, dim=1))\n",
        "            \n",
        "            return bounded_layer\n",
        "        return hook\n",
        "    \n",
        "    def get_layers_by_index(layer_name):\n",
        "        def hook(module, input, output):\n",
        "            indexed_layers[(len(indexed_layers), layer_name)] = module\n",
        "        return hook\n",
        "    \n",
        "    def get_layers(name: str, model: torch.nn.Module):\n",
        "        children = list(model.named_children())\n",
        "        return [(name, model)] if len(children) == 0 else [ci for c in children for ci in get_layers(name + '.' + c[0], c[1])]\n",
        "    \n",
        "    indexed_layers = OrderedDict()\n",
        "    layers = get_layers('lenet5', lenet5)\n",
        "    hooks = []\n",
        "    for (layer, module) in layers:\n",
        "        hooks.append(module.register_forward_hook(get_layers_by_index(layer)))\n",
        "\n",
        "    X = [torch.rand(2, *input_size).type(DTYPE).to(DEVICE)]\n",
        "    \n",
        "    lenet5.eval()\n",
        "    with torch.no_grad():\n",
        "        lenet5(*X)\n",
        "    \n",
        "    for hook in hooks:\n",
        "        hook.remove()\n",
        "    \n",
        "    registered = []\n",
        "    for key in params_range.keys():\n",
        "        if key[0] in [1, 3, 5, 7, 10, 12]:\n",
        "            registered.append(key)\n",
        "            \n",
        "            next_key = list(params_range.keys())[key[0] + 1]\n",
        "            if next_key[0] in [2, 6, 8]:\n",
        "                registered.append(next_key)\n",
        "    registered.append(list(params_range.keys())[13])\n",
        "\n",
        "    hooks = []\n",
        "    for key in registered:\n",
        "        hooks.append(indexed_layers[key].register_forward_hook(set_range(key)))\n",
        "\n",
        "    return hooks"
      ]
    },
    {
      "cell_type": "code",
      "execution_count": 13,
      "metadata": {},
      "outputs": [],
      "source": [
        "def detector_forward(lenet5, testloader, batch_result):\n",
        "    lenet5.eval()   \n",
        "    with torch.no_grad():\n",
        "        predictions = torch.tensor([], dtype=torch.int, device=DEVICE)\n",
        "        scores = torch.tensor([], device=DEVICE)\n",
        "        result = torch.tensor([], dtype=torch.bool, device=DEVICE)\n",
        "        inf_time = 0\n",
        "        for X, _ in testloader:\n",
        "            batch_result[0] = torch.full((len(X),), True).to(DEVICE)\n",
        "            X = X.to(DEVICE)\n",
        "            start = time()\n",
        "            pred = lenet5(X)\n",
        "            inf_time += (time() - start)\n",
        "            probs = nn.functional.softmax(pred, dim=1)\n",
        "            output = torch.max(probs, 1)\n",
        "            predictions = torch.cat((predictions, output[1]))\n",
        "            scores = torch.cat((scores, output[0]))\n",
        "            result = torch.cat((result, batch_result[0]))\n",
        "        return (predictions, scores), result, inf_time"
      ]
    },
    {
      "cell_type": "code",
      "execution_count": 14,
      "metadata": {},
      "outputs": [],
      "source": [
        "def detector_test(lenet5, testloader, injected_data, params_range, cushion):\n",
        "    new_params_range = OrderedDict()\n",
        "    for layer, params in params_range.items():\n",
        "        layer_min = torch.add(params[..., 0], torch.abs(params[..., 0]), alpha=-cushion)\n",
        "        layer_max = torch.add(params[..., 1], torch.abs(params[..., 1]), alpha=cushion)\n",
        "        new_params_range[layer] = torch.stack([layer_min, layer_max], dim=-1)\n",
        "    \n",
        "    for layer, params in new_params_range.items():\n",
        "        new_params_range[layer] = torch.tensor([torch.min(params[..., 0]), torch.max(params[..., 1])], dtype=DTYPE)\n",
        "    \n",
        "    detector_data = pd.DataFrame(columns=['output', 'detected', 'runtime'])\n",
        "    for i, row in injected_data.iterrows():\n",
        "        injected_lenet, _, _ = fault_injector(lenet5, row['dtype'], row['param_number'], row['bit_position'])\n",
        "\n",
        "        batch_result = [0]\n",
        "\n",
        "        hooks = ranger(injected_lenet, new_params_range, batch_result, [1, 28, 28])\n",
        "\n",
        "        detector_data.at[i, 'output'], detector_data.at[i, 'detected'], detector_data.at[i, 'runtime'] = detector_forward(injected_lenet, testloader, batch_result)        \n",
        "        \n",
        "        for hook in hooks:\n",
        "            hook.remove()\n",
        "        \n",
        "        print(\"index: {}, SDC detected: {} %, runtime: {}\".format(i, 100 * (1 - detector_data.at[i, 'detected'].sum().item() / len(testloader.dataset)), detector_data.at[i, 'runtime']))\n",
        "    return detector_data\n",
        "        "
      ]
    },
    {
      "cell_type": "code",
      "execution_count": null,
      "metadata": {},
      "outputs": [],
      "source": [
        "ranger_output = detector_test(lenet5, testloader, injected_data[:3200], params_range, 0)"
      ]
    },
    {
      "cell_type": "code",
      "execution_count": 17,
      "metadata": {},
      "outputs": [],
      "source": [
        "ranger_output.to_pickle('./lenet5/lenet5_ranger_test.pkl')"
      ]
    },
    {
      "cell_type": "code",
      "execution_count": 18,
      "metadata": {},
      "outputs": [],
      "source": [
        "class CPU_Unpickler(pickle.Unpickler):\n",
        "    def find_class(self, module, name):\n",
        "        if module == 'torch.storage' and name == '_load_from_bytes':\n",
        "            return lambda b: torch.load(io.BytesIO(b), map_location=DEVICE)\n",
        "        else: return super().find_class(module, name)\n",
        "\n",
        "with open('./lenet5/lenet5_ranger_test.pkl', 'rb') as f:\n",
        "    ranger_output = CPU_Unpickler(f).load()\n"
      ]
    }
  ],
  "metadata": {
    "colab": {
      "provenance": []
    },
    "kernelspec": {
      "display_name": "Python 3",
      "name": "python3"
    },
    "language_info": {
      "codemirror_mode": {
        "name": "ipython",
        "version": 3
      },
      "file_extension": ".py",
      "mimetype": "text/x-python",
      "name": "python",
      "nbconvert_exporter": "python",
      "pygments_lexer": "ipython3",
      "version": "3.10.10"
    }
  },
  "nbformat": 4,
  "nbformat_minor": 0
}
